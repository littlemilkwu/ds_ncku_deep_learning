{
 "cells": [
  {
   "cell_type": "code",
   "execution_count": 1,
   "metadata": {},
   "outputs": [],
   "source": [
    "import numpy as np\n",
    "import pandas as pd\n",
    "from toolbox import *"
   ]
  },
  {
   "attachments": {},
   "cell_type": "markdown",
   "metadata": {},
   "source": [
    "## Original LeNet"
   ]
  },
  {
   "cell_type": "code",
   "execution_count": 5,
   "metadata": {},
   "outputs": [],
   "source": [
    "def get_hyper(txt):\n",
    "    dict_re = dict()\n",
    "    txt = txt.split('/')[-1]\n",
    "    ls_txt = txt.split('_')\n",
    "\n",
    "    dict_re['v'] = ls_txt[1]\n",
    "    dict_re['e'] = ls_txt[2][1:]\n",
    "    dict_re['b'] = ls_txt[3][1:]\n",
    "    dict_re['lr'] = ls_txt[4][2:-4]\n",
    "    return dict_re"
   ]
  },
  {
   "cell_type": "code",
   "execution_count": 6,
   "metadata": {},
   "outputs": [
    {
     "name": "stdout",
     "output_type": "stream",
     "text": [
      "{'v': 'origin', 'e': '30', 'b': '128', 'lr': '0.01'}\n"
     ]
    }
   ],
   "source": [
    "filename = 'output/lenet_origin_e30_b128_lr0.01.csv'\n",
    "\n",
    "hyper_dict = get_hyper(filename)\n",
    "\n",
    "df_e30 = pd.read_csv(filename)\n",
    "draw_loss_n_save(df_e30.values, hyper_dict)"
   ]
  },
  {
   "cell_type": "code",
   "execution_count": null,
   "metadata": {},
   "outputs": [],
   "source": []
  }
 ],
 "metadata": {
  "kernelspec": {
   "display_name": "jupyterhub",
   "language": "python",
   "name": "jupyterhub"
  },
  "language_info": {
   "codemirror_mode": {
    "name": "ipython",
    "version": 3
   },
   "file_extension": ".py",
   "mimetype": "text/x-python",
   "name": "python",
   "nbconvert_exporter": "python",
   "pygments_lexer": "ipython3",
   "version": "3.9.13"
  },
  "orig_nbformat": 4
 },
 "nbformat": 4,
 "nbformat_minor": 2
}
