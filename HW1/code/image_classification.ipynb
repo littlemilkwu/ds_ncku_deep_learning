{
 "cells": [
  {
   "cell_type": "code",
   "execution_count": 1,
   "metadata": {},
   "outputs": [],
   "source": [
    "import numpy as np\n",
    "import pandas as pd\n",
    "from tqdm import tqdm\n",
    "from sklearn.linear_model import Perceptron\n",
    "from catboost import CatBoostClassifier\n",
    "from sklearn.metrics import accuracy_score, precision_score, recall_score, f1_score\n",
    "\n",
    "import torch\n",
    "from torch import nn\n",
    "from torch.utils.data import TensorDataset, DataLoader\n",
    "\n",
    "import matplotlib.pyplot as plt\n",
    "\n",
    "RANDOM_STATE = 11\n",
    "RS = np.random.RandomState(RANDOM_STATE)"
   ]
  },
  {
   "attachments": {},
   "cell_type": "markdown",
   "metadata": {},
   "source": [
    "## Load Features"
   ]
  },
  {
   "cell_type": "code",
   "execution_count": 2,
   "metadata": {},
   "outputs": [],
   "source": [
    "train_ = np.load('output/train_features.npz')\n",
    "val_ = np.load('output/val_features.npz')\n",
    "test_ = np.load('output/test_features.npz')\n",
    "\n",
    "train_X, train_y = train_['X'], train_['y']\n",
    "val_X, val_y = val_['X'], val_['y']\n",
    "test_X, test_y = test_['X'], test_['y']"
   ]
  },
  {
   "cell_type": "code",
   "execution_count": 3,
   "metadata": {},
   "outputs": [
    {
     "name": "stdout",
     "output_type": "stream",
     "text": [
      "train_X  shape:  (63325, 1344)\n",
      "val_X    shape:  (450, 1344)\n",
      "test_X   shape:  (450, 1344)\n"
     ]
    }
   ],
   "source": [
    "print(\"{:<8} shape: \".format('train_X'), train_X.shape)\n",
    "print(\"{:<8} shape: \".format('val_X'), val_X.shape)\n",
    "print(\"{:<8} shape: \".format('test_X'), test_X.shape)"
   ]
  },
  {
   "cell_type": "markdown",
   "metadata": {},
   "source": [
    "## Build Model\n",
    "<pre>\n",
    "Choose at least three methods: Perceptron, Catboost, PyTorch-nn\n",
    "Show the curves of accuracy in trainning and testing phase.\n",
    "The predict result on the validation/testing phase. (top-1 accuracy and top-5 accuracy)\n",
    "</pre>"
   ]
  },
  {
   "cell_type": "markdown",
   "metadata": {},
   "source": [
    "### Toolbox"
   ]
  },
  {
   "cell_type": "code",
   "execution_count": 4,
   "metadata": {},
   "outputs": [],
   "source": [
    "def calc_top5_acc(true_y, top5_y):\n",
    "    ls_correct = [1 if true_y[i] in top5_y[i] else 0 for i in range(len(true_y))]\n",
    "    return sum(ls_correct) / len(ls_correct)\n",
    "\n",
    "def evaluate_score(true_y, pred_y_proba):\n",
    "    pred_y = pred_y_proba.argmax(axis=1)\n",
    "    top1_acc = round(accuracy_score(true_y, pred_y), 4)\n",
    "    \n",
    "    top5_y = np.argpartition(pred_y_proba, -5)[:, -5:]\n",
    "    top5_acc = round(calc_top5_acc(true_y, top5_y), 4)\n",
    "    return (top1_acc, top5_acc)\n",
    "\n",
    "# evaluate_score(val_y, val_y_proba)"
   ]
  },
  {
   "cell_type": "markdown",
   "metadata": {},
   "source": [
    "### Perceptron"
   ]
  },
  {
   "cell_type": "code",
   "execution_count": 5,
   "metadata": {},
   "outputs": [
    {
     "name": "stdout",
     "output_type": "stream",
     "text": [
      "(0.0422, 0.1822)\n",
      "(0.0644, 0.1778)\n"
     ]
    }
   ],
   "source": [
    "per_clf = Perceptron(random_state=RANDOM_STATE, n_jobs=-1, shuffle=True)\n",
    "per_clf.fit(train_X, train_y)\n",
    "val_y_proba = per_clf.decision_function(val_X)\n",
    "\n",
    "test_y_proba = per_clf.decision_function(test_X)\n",
    "\n",
    "per_val_acc = evaluate_score(val_y, val_y_proba)\n",
    "per_test_acc = evaluate_score(test_y, test_y_proba)\n",
    "\n",
    "# top1_acc, top5_acc\n",
    "print(per_val_acc)\n",
    "print(per_test_acc)"
   ]
  },
  {
   "cell_type": "markdown",
   "metadata": {},
   "source": [
    "### CatBoost"
   ]
  },
  {
   "cell_type": "code",
   "execution_count": 6,
   "metadata": {},
   "outputs": [
    {
     "name": "stdout",
     "output_type": "stream",
     "text": [
      "Learning rate set to 0.090026\n",
      "0:\tlearn: 3.8669413\ttest: 3.8646928\tbest: 3.8646928 (0)\ttotal: 1.17s\tremaining: 39m 3s\n",
      "50:\tlearn: 3.2296886\ttest: 3.3199633\tbest: 3.3199633 (50)\ttotal: 52.2s\tremaining: 33m 14s\n",
      "100:\tlearn: 2.9906798\ttest: 3.1892998\tbest: 3.1892998 (100)\ttotal: 1m 42s\tremaining: 32m 12s\n",
      "150:\tlearn: 2.7977880\ttest: 3.0834402\tbest: 3.0834402 (150)\ttotal: 2m 33s\tremaining: 31m 15s\n",
      "200:\tlearn: 2.6626253\ttest: 3.0178248\tbest: 3.0178248 (200)\ttotal: 3m 23s\tremaining: 30m 17s\n",
      "250:\tlearn: 2.5575288\ttest: 2.9692812\tbest: 2.9692812 (250)\ttotal: 4m 12s\tremaining: 29m 21s\n",
      "300:\tlearn: 2.4693186\ttest: 2.9314698\tbest: 2.9314698 (300)\ttotal: 5m 2s\tremaining: 28m 27s\n",
      "350:\tlearn: 2.4011097\ttest: 2.9044201\tbest: 2.9044201 (350)\ttotal: 5m 51s\tremaining: 27m 33s\n",
      "400:\tlearn: 2.3449149\ttest: 2.8837260\tbest: 2.8836158 (399)\ttotal: 6m 41s\tremaining: 26m 40s\n",
      "450:\tlearn: 2.2946713\ttest: 2.8650955\tbest: 2.8649896 (449)\ttotal: 7m 30s\tremaining: 25m 47s\n",
      "500:\tlearn: 2.2556021\ttest: 2.8492118\tbest: 2.8492118 (500)\ttotal: 8m 19s\tremaining: 24m 54s\n",
      "550:\tlearn: 2.2112409\ttest: 2.8366045\tbest: 2.8366045 (550)\ttotal: 9m 8s\tremaining: 24m 3s\n",
      "600:\tlearn: 2.1719086\ttest: 2.8246961\tbest: 2.8246961 (600)\ttotal: 9m 59s\tremaining: 23m 14s\n",
      "650:\tlearn: 2.1365857\ttest: 2.8095608\tbest: 2.8095608 (650)\ttotal: 10m 49s\tremaining: 22m 25s\n",
      "700:\tlearn: 2.0999693\ttest: 2.8033410\tbest: 2.8031406 (699)\ttotal: 11m 38s\tremaining: 21m 34s\n",
      "750:\tlearn: 2.0673305\ttest: 2.7924521\tbest: 2.7924521 (750)\ttotal: 12m 27s\tremaining: 20m 43s\n",
      "800:\tlearn: 2.0392393\ttest: 2.7844928\tbest: 2.7844928 (800)\ttotal: 13m 16s\tremaining: 19m 52s\n",
      "850:\tlearn: 2.0105323\ttest: 2.7757395\tbest: 2.7755813 (845)\ttotal: 14m 5s\tremaining: 19m 1s\n",
      "900:\tlearn: 1.9856947\ttest: 2.7670078\tbest: 2.7670078 (900)\ttotal: 14m 54s\tremaining: 18m 11s\n",
      "950:\tlearn: 1.9596017\ttest: 2.7578928\tbest: 2.7578928 (950)\ttotal: 15m 43s\tremaining: 17m 20s\n",
      "1000:\tlearn: 1.9339520\ttest: 2.7521274\tbest: 2.7521274 (1000)\ttotal: 16m 32s\tremaining: 16m 30s\n",
      "1050:\tlearn: 1.9115370\ttest: 2.7460950\tbest: 2.7454224 (1042)\ttotal: 17m 21s\tremaining: 15m 40s\n",
      "1100:\tlearn: 1.8884171\ttest: 2.7385403\tbest: 2.7383049 (1093)\ttotal: 18m 21s\tremaining: 14m 59s\n",
      "1150:\tlearn: 1.8614880\ttest: 2.7289880\tbest: 2.7289880 (1150)\ttotal: 19m 31s\tremaining: 14m 24s\n",
      "1200:\tlearn: 1.8372673\ttest: 2.7257093\tbest: 2.7255477 (1191)\ttotal: 20m 46s\tremaining: 13m 49s\n",
      "1250:\tlearn: 1.8146429\ttest: 2.7204846\tbest: 2.7204846 (1250)\ttotal: 22m 2s\tremaining: 13m 11s\n",
      "1300:\tlearn: 1.7916660\ttest: 2.7127072\tbest: 2.7126971 (1299)\ttotal: 23m 18s\tremaining: 12m 31s\n",
      "1350:\tlearn: 1.7676322\ttest: 2.7063131\tbest: 2.7063131 (1350)\ttotal: 24m 45s\tremaining: 11m 53s\n",
      "1400:\tlearn: 1.7459519\ttest: 2.7013519\tbest: 2.7009953 (1398)\ttotal: 25m 53s\tremaining: 11m 4s\n",
      "1450:\tlearn: 1.7248101\ttest: 2.6963798\tbest: 2.6962529 (1448)\ttotal: 26m 42s\tremaining: 10m 6s\n",
      "1500:\tlearn: 1.7036169\ttest: 2.6920767\tbest: 2.6920525 (1497)\ttotal: 27m 32s\tremaining: 9m 9s\n",
      "1550:\tlearn: 1.6838228\ttest: 2.6854143\tbest: 2.6843409 (1547)\ttotal: 28m 21s\tremaining: 8m 12s\n",
      "1600:\tlearn: 1.6628962\ttest: 2.6847465\tbest: 2.6839658 (1594)\ttotal: 29m 11s\tremaining: 7m 16s\n",
      "1650:\tlearn: 1.6451111\ttest: 2.6803170\tbest: 2.6803170 (1650)\ttotal: 30m\tremaining: 6m 20s\n",
      "1700:\tlearn: 1.6235324\ttest: 2.6764819\tbest: 2.6762824 (1698)\ttotal: 30m 50s\tremaining: 5m 25s\n",
      "1750:\tlearn: 1.6034775\ttest: 2.6725030\tbest: 2.6718179 (1744)\ttotal: 31m 39s\tremaining: 4m 30s\n",
      "1800:\tlearn: 1.5827486\ttest: 2.6721231\tbest: 2.6710819 (1755)\ttotal: 32m 29s\tremaining: 3m 35s\n",
      "Stopped by overfitting detector  (50 iterations wait)\n",
      "\n",
      "bestTest = 2.671081914\n",
      "bestIteration = 1755\n",
      "\n",
      "Shrink model to first 1756 iterations.\n",
      "(0.2978, 0.6133)\n",
      "(0.28, 0.5822)\n"
     ]
    }
   ],
   "source": [
    "cat_clf = CatBoostClassifier(\n",
    "    iterations=2000, early_stopping_rounds=50,\n",
    "    random_state=RANDOM_STATE, verbose=50, use_best_model=True)\n",
    "cat_clf.fit(train_X, train_y, eval_set=(val_X, val_y))\n",
    "val_y_proba = cat_clf.predict_proba(val_X)\n",
    "test_y_proba = cat_clf.predict_proba(test_X)\n",
    "\n",
    "cat_val_acc = evaluate_score(val_y, val_y_proba)\n",
    "cat_test_acc = evaluate_score(test_y, test_y_proba)\n",
    "\n",
    "# top1_acc, top5_acc\n",
    "print(cat_val_acc)\n",
    "print(cat_test_acc)\n",
    "\n",
    "# output \n",
    "# (0.2978, 0.6133)\n",
    "# (0.28, 0.5822)"
   ]
  },
  {
   "cell_type": "code",
   "execution_count": 8,
   "metadata": {},
   "outputs": [],
   "source": [
    "cat_clf.save_model('best_model/cat_clf')"
   ]
  },
  {
   "cell_type": "markdown",
   "metadata": {},
   "source": [
    "### Torch NN"
   ]
  },
  {
   "cell_type": "code",
   "execution_count": 10,
   "metadata": {},
   "outputs": [
    {
     "name": "stdout",
     "output_type": "stream",
     "text": [
      "cuda\n"
     ]
    }
   ],
   "source": [
    "device = torch.device('cuda' if torch.cuda.is_available() else \"cpu\")\n",
    "print(device)"
   ]
  },
  {
   "cell_type": "code",
   "execution_count": 11,
   "metadata": {},
   "outputs": [],
   "source": [
    "class ImageModel(nn.Module):\n",
    "    def __init__(self):\n",
    "        super(ImageModel, self).__init__()\n",
    "        # self.flatten = nn.Flatten()\n",
    "        self.linear_stack = nn.Sequential(\n",
    "            nn.Linear(1344, 512),\n",
    "            nn.BatchNorm1d(512),\n",
    "            nn.ReLU(),\n",
    "            nn.Linear(512, 256),\n",
    "            nn.BatchNorm1d(256),\n",
    "            nn.ReLU(),\n",
    "            nn.Linear(256, 128),\n",
    "            nn.BatchNorm1d(128),\n",
    "            nn.ReLU(),\n",
    "            nn.Linear(128, 64),\n",
    "            nn.BatchNorm1d(64),\n",
    "            nn.ReLU(),\n",
    "            nn.Linear(64, 50)\n",
    "        )\n",
    "    def forward(self, x):\n",
    "        # x = self.flatten(x)\n",
    "        logits = self.linear_stack(x)\n",
    "        pred_proba = nn.Softmax(dim=1)(logits)\n",
    "        return logits\n",
    "\n",
    "image_model = ImageModel().to(device)\n",
    "\n",
    "lr = 1e-4\n",
    "wd = 1e-5\n",
    "batch_size = 512\n",
    "epochs = 50\n",
    "\n",
    "# loss function\n",
    "loss_fn = nn.CrossEntropyLoss()\n",
    "\n",
    "# optimizers\n",
    "optimizer = torch.optim.Adam(image_model.parameters(), lr=lr, weight_decay=wd)"
   ]
  },
  {
   "cell_type": "code",
   "execution_count": 12,
   "metadata": {},
   "outputs": [],
   "source": [
    "# tensor\n",
    "train_X = torch.from_numpy(train_X).to(torch.float32)\n",
    "train_y = torch.from_numpy(train_y)\n",
    "\n",
    "val_X = torch.from_numpy(val_X).to(torch.float32)\n",
    "val_y = torch.from_numpy(val_y)\n",
    "\n",
    "test_X = torch.from_numpy(test_X).to(torch.float32)\n",
    "test_y = torch.from_numpy(test_y)\n",
    "\n",
    "# dataset\n",
    "train_dataset = TensorDataset(train_X, train_y)\n",
    "val_dataset = TensorDataset(val_X, val_y)\n",
    "test_dataset = TensorDataset(test_X, test_y)\n",
    "\n",
    "# dataloader\n",
    "train_loader = DataLoader(train_dataset, batch_size=batch_size, shuffle=True)\n",
    "val_loader = DataLoader(val_dataset, batch_size=batch_size, shuffle=True)\n",
    "test_loader = DataLoader(test_dataset, batch_size=batch_size, shuffle=True)"
   ]
  },
  {
   "cell_type": "code",
   "execution_count": 13,
   "metadata": {},
   "outputs": [],
   "source": [
    "# training loop\n",
    "def train_loop(epochs, model, loss_fn, optimizer, train_loader, val_loader=None):\n",
    "    global device\n",
    "    ls_loss = []\n",
    "    ls_acc = []\n",
    "    ls_val_loss = []\n",
    "    ls_val_acc = []\n",
    "    dict_best = {'epoch': -1, 'best_val_loss': 1e10}\n",
    "    \n",
    "    model.train()\n",
    "    for i in range(epochs):\n",
    "        data_len = len(train_loader.dataset)\n",
    "        loop = tqdm(enumerate(train_loader), total=len(train_loader))\n",
    "        total_loss = 0\n",
    "        correct_num = 0\n",
    "        for batch_i, (X, y) in loop:\n",
    "            \n",
    "            X = X.to(device)\n",
    "            y = y.to(device)\n",
    "            # forward\n",
    "            pred = model(X)\n",
    "            loss = loss_fn(pred, y)\n",
    "\n",
    "            # backward\n",
    "            optimizer.zero_grad()\n",
    "            loss.backward()\n",
    "            optimizer.step()\n",
    "\n",
    "            correct_num += (pred.argmax(dim=1) == y).sum().item()\n",
    "            total_loss += loss.item() * X.shape[0]\n",
    "            # tqdm\n",
    "            loop.set_description(f\"Epochs: [{i+1}/{epochs}]\")\n",
    "\n",
    "            if (batch_i+1 == len(train_loader)):\n",
    "                # last batch finish\n",
    "                total_loss = total_loss / data_len\n",
    "                acc_training = correct_num / data_len\n",
    "                loop.set_postfix(loss=total_loss, acc=acc_training)\n",
    "                ls_loss.append(total_loss)\n",
    "                ls_acc.append(acc_training)\n",
    "\n",
    "                # (optional) val loop\n",
    "                if val_loader != None:\n",
    "                    val_acc, val_loss = val_stage(model, loss_fn, val_loader)\n",
    "                    if val_loss < dict_best['best_val_loss']:\n",
    "                        dict_best['best_val_loss'] = val_loss\n",
    "                        dict_best['epoch'] = (i+1)\n",
    "                        # save best model\n",
    "                        torch.save(model, 'best_model/torch_nn.pth')\n",
    "                    \n",
    "                    loop.set_postfix(acc=acc_training, loss=total_loss, val_acc=val_acc, val_loss=val_loss)\n",
    "                    ls_val_loss.append(val_loss)\n",
    "                    ls_val_acc.append(val_acc)\n",
    "    print(dict_best)\n",
    "    return (ls_acc, ls_loss), (ls_val_acc, ls_val_loss), dict_best\n",
    "        \n",
    "\n",
    "# val loop\n",
    "def val_stage(model, loss_fn, val_loader):\n",
    "    global device\n",
    "    model.eval()\n",
    "    with torch.no_grad():\n",
    "        total_loss = 0\n",
    "        correct_num = 0\n",
    "        for batch_i, (X, y) in enumerate(val_loader):\n",
    "            X, y = X.to(device), y.to(device)\n",
    "            pred = model(X)\n",
    "\n",
    "            correct_num += (pred.argmax(dim=1) == y).sum().item()\n",
    "            total_loss += loss_fn(pred, y).item() * X.shape[0]\n",
    "        total_acc = correct_num / len(val_loader.dataset)\n",
    "        total_loss /= len(val_loader.dataset)\n",
    "        return total_acc, total_loss"
   ]
  },
  {
   "cell_type": "code",
   "execution_count": 14,
   "metadata": {},
   "outputs": [
    {
     "name": "stderr",
     "output_type": "stream",
     "text": [
      "Epochs: [1/50]: 100%|██████████| 124/124 [00:02<00:00, 46.93it/s, acc=0.0527, loss=3.83, val_acc=0.0867, val_loss=3.72]\n",
      "Epochs: [2/50]: 100%|██████████| 124/124 [00:01<00:00, 83.99it/s, acc=0.102, loss=3.58, val_acc=0.133, val_loss=3.48]\n",
      "Epochs: [3/50]: 100%|██████████| 124/124 [00:01<00:00, 75.45it/s, acc=0.131, loss=3.4, val_acc=0.129, val_loss=3.4]\n",
      "Epochs: [4/50]: 100%|██████████| 124/124 [00:01<00:00, 88.08it/s, acc=0.151, loss=3.28, val_acc=0.144, val_loss=3.37]\n",
      "Epochs: [5/50]: 100%|██████████| 124/124 [00:01<00:00, 91.06it/s, acc=0.168, loss=3.2, val_acc=0.144, val_loss=3.34] \n",
      "Epochs: [6/50]: 100%|██████████| 124/124 [00:01<00:00, 90.12it/s, acc=0.182, loss=3.13, val_acc=0.171, val_loss=3.3]\n",
      "Epochs: [7/50]: 100%|██████████| 124/124 [00:01<00:00, 102.86it/s, acc=0.195, loss=3.07, val_acc=0.142, val_loss=3.31]\n",
      "Epochs: [8/50]: 100%|██████████| 124/124 [00:01<00:00, 89.08it/s, acc=0.209, loss=3.02, val_acc=0.153, val_loss=3.3]\n",
      "Epochs: [9/50]: 100%|██████████| 124/124 [00:01<00:00, 80.44it/s, acc=0.22, loss=2.97, val_acc=0.147, val_loss=3.3]\n",
      "Epochs: [10/50]: 100%|██████████| 124/124 [00:01<00:00, 108.37it/s, acc=0.231, loss=2.92, val_acc=0.156, val_loss=3.31]\n",
      "Epochs: [11/50]: 100%|██████████| 124/124 [00:01<00:00, 87.61it/s, acc=0.243, loss=2.87, val_acc=0.173, val_loss=3.28]\n",
      "Epochs: [12/50]: 100%|██████████| 124/124 [00:01<00:00, 96.83it/s, acc=0.255, loss=2.83, val_acc=0.169, val_loss=3.29] \n",
      "Epochs: [13/50]: 100%|██████████| 124/124 [00:01<00:00, 75.88it/s, acc=0.265, loss=2.79, val_acc=0.171, val_loss=3.3]\n",
      "Epochs: [14/50]: 100%|██████████| 124/124 [00:01<00:00, 85.65it/s, acc=0.274, loss=2.75, val_acc=0.173, val_loss=3.3]\n",
      "Epochs: [15/50]: 100%|██████████| 124/124 [00:01<00:00, 104.56it/s, acc=0.285, loss=2.71, val_acc=0.169, val_loss=3.31]\n",
      "Epochs: [16/50]: 100%|██████████| 124/124 [00:01<00:00, 106.44it/s, acc=0.291, loss=2.67, val_acc=0.171, val_loss=3.31]\n",
      "Epochs: [17/50]: 100%|██████████| 124/124 [00:01<00:00, 89.11it/s, acc=0.301, loss=2.63, val_acc=0.18, val_loss=3.33]\n",
      "Epochs: [18/50]: 100%|██████████| 124/124 [00:01<00:00, 86.25it/s, acc=0.311, loss=2.59, val_acc=0.176, val_loss=3.36] \n",
      "Epochs: [19/50]: 100%|██████████| 124/124 [00:01<00:00, 113.23it/s, acc=0.321, loss=2.55, val_acc=0.184, val_loss=3.37]\n",
      "Epochs: [20/50]: 100%|██████████| 124/124 [00:01<00:00, 78.50it/s, acc=0.329, loss=2.52, val_acc=0.16, val_loss=3.37]\n",
      "Epochs: [21/50]: 100%|██████████| 124/124 [00:01<00:00, 89.51it/s, acc=0.339, loss=2.48, val_acc=0.178, val_loss=3.37]\n",
      "Epochs: [22/50]: 100%|██████████| 124/124 [00:01<00:00, 87.76it/s, acc=0.346, loss=2.45, val_acc=0.167, val_loss=3.38]\n",
      "Epochs: [23/50]: 100%|██████████| 124/124 [00:01<00:00, 86.95it/s, acc=0.357, loss=2.41, val_acc=0.178, val_loss=3.41]\n",
      "Epochs: [24/50]: 100%|██████████| 124/124 [00:01<00:00, 84.79it/s, acc=0.362, loss=2.38, val_acc=0.167, val_loss=3.45]\n",
      "Epochs: [25/50]: 100%|██████████| 124/124 [00:01<00:00, 77.16it/s, acc=0.373, loss=2.35, val_acc=0.169, val_loss=3.45]\n",
      "Epochs: [26/50]: 100%|██████████| 124/124 [00:01<00:00, 90.57it/s, acc=0.381, loss=2.31, val_acc=0.173, val_loss=3.47]\n",
      "Epochs: [27/50]: 100%|██████████| 124/124 [00:01<00:00, 84.94it/s, acc=0.388, loss=2.28, val_acc=0.18, val_loss=3.48]\n",
      "Epochs: [28/50]: 100%|██████████| 124/124 [00:01<00:00, 87.84it/s, acc=0.395, loss=2.26, val_acc=0.18, val_loss=3.53]\n",
      "Epochs: [29/50]: 100%|██████████| 124/124 [00:01<00:00, 97.34it/s, acc=0.403, loss=2.23, val_acc=0.164, val_loss=3.53]\n",
      "Epochs: [30/50]: 100%|██████████| 124/124 [00:01<00:00, 100.94it/s, acc=0.411, loss=2.2, val_acc=0.173, val_loss=3.54]\n",
      "Epochs: [31/50]: 100%|██████████| 124/124 [00:01<00:00, 98.63it/s, acc=0.418, loss=2.17, val_acc=0.164, val_loss=3.61]\n",
      "Epochs: [32/50]: 100%|██████████| 124/124 [00:01<00:00, 103.84it/s, acc=0.427, loss=2.13, val_acc=0.176, val_loss=3.62]\n",
      "Epochs: [33/50]: 100%|██████████| 124/124 [00:01<00:00, 94.90it/s, acc=0.431, loss=2.11, val_acc=0.164, val_loss=3.64]\n",
      "Epochs: [34/50]: 100%|██████████| 124/124 [00:01<00:00, 90.29it/s, acc=0.44, loss=2.08, val_acc=0.189, val_loss=3.62]\n",
      "Epochs: [35/50]: 100%|██████████| 124/124 [00:01<00:00, 85.33it/s, acc=0.447, loss=2.06, val_acc=0.158, val_loss=3.66]\n",
      "Epochs: [36/50]: 100%|██████████| 124/124 [00:01<00:00, 81.79it/s, acc=0.454, loss=2.03, val_acc=0.149, val_loss=3.71]\n",
      "Epochs: [37/50]: 100%|██████████| 124/124 [00:01<00:00, 102.56it/s, acc=0.463, loss=2, val_acc=0.171, val_loss=3.74]\n",
      "Epochs: [38/50]: 100%|██████████| 124/124 [00:01<00:00, 86.97it/s, acc=0.469, loss=1.97, val_acc=0.158, val_loss=3.77]\n",
      "Epochs: [39/50]: 100%|██████████| 124/124 [00:01<00:00, 89.50it/s, acc=0.477, loss=1.95, val_acc=0.193, val_loss=3.8]\n",
      "Epochs: [40/50]: 100%|██████████| 124/124 [00:01<00:00, 93.86it/s, acc=0.483, loss=1.92, val_acc=0.147, val_loss=3.83] \n",
      "Epochs: [41/50]: 100%|██████████| 124/124 [00:01<00:00, 93.08it/s, acc=0.488, loss=1.9, val_acc=0.16, val_loss=3.88] \n",
      "Epochs: [42/50]: 100%|██████████| 124/124 [00:01<00:00, 105.09it/s, acc=0.493, loss=1.88, val_acc=0.167, val_loss=3.91]\n",
      "Epochs: [43/50]: 100%|██████████| 124/124 [00:01<00:00, 86.52it/s, acc=0.498, loss=1.86, val_acc=0.158, val_loss=3.89]\n",
      "Epochs: [44/50]: 100%|██████████| 124/124 [00:01<00:00, 98.34it/s, acc=0.507, loss=1.83, val_acc=0.164, val_loss=3.92]\n",
      "Epochs: [45/50]: 100%|██████████| 124/124 [00:01<00:00, 85.63it/s, acc=0.512, loss=1.81, val_acc=0.164, val_loss=3.95]\n",
      "Epochs: [46/50]: 100%|██████████| 124/124 [00:01<00:00, 102.14it/s, acc=0.517, loss=1.79, val_acc=0.156, val_loss=3.98]\n",
      "Epochs: [47/50]: 100%|██████████| 124/124 [00:01<00:00, 109.27it/s, acc=0.524, loss=1.76, val_acc=0.153, val_loss=4.05]\n",
      "Epochs: [48/50]: 100%|██████████| 124/124 [00:01<00:00, 92.97it/s, acc=0.532, loss=1.74, val_acc=0.18, val_loss=4.01]\n",
      "Epochs: [49/50]: 100%|██████████| 124/124 [00:01<00:00, 102.13it/s, acc=0.534, loss=1.72, val_acc=0.158, val_loss=4.07]\n",
      "Epochs: [50/50]: 100%|██████████| 124/124 [00:01<00:00, 109.07it/s, acc=0.538, loss=1.7, val_acc=0.164, val_loss=4.08]"
     ]
    },
    {
     "name": "stdout",
     "output_type": "stream",
     "text": [
      "{'epoch': 11, 'best_val_loss': 3.2845406532287598}\n"
     ]
    },
    {
     "name": "stderr",
     "output_type": "stream",
     "text": [
      "\n"
     ]
    }
   ],
   "source": [
    "(ls_acc, ls_loss), (ls_val_acc, ls_val_loss), dict_best = train_loop(epochs, image_model, loss_fn, optimizer, train_loader, val_loader)"
   ]
  },
  {
   "cell_type": "code",
   "execution_count": 15,
   "metadata": {},
   "outputs": [],
   "source": [
    "# 轉回 numpy\n",
    "train_y = train_y.numpy()\n",
    "val_y = val_y.numpy()\n",
    "test_y = test_y.numpy()"
   ]
  },
  {
   "cell_type": "code",
   "execution_count": 17,
   "metadata": {},
   "outputs": [
    {
     "name": "stdout",
     "output_type": "stream",
     "text": [
      "(0.1733, 0.4444)\n",
      "(0.1533, 0.4244)\n"
     ]
    }
   ],
   "source": [
    "image_model = torch.load('best_model/torch_nn.pth')\n",
    "val_y_proba = image_model(val_X.to(device)).cpu().detach().numpy()\n",
    "test_y_proba = image_model(test_X.to(device)).cpu().detach().numpy()\n",
    "\n",
    "nn_val_acc = evaluate_score(val_y, val_y_proba)\n",
    "nn_test_acc = evaluate_score(test_y, test_y_proba)\n",
    "\n",
    "print(nn_val_acc)\n",
    "print(nn_test_acc)\n",
    "\n",
    "# final model\n",
    "# (0.1644, 0.4133)\n",
    "# (0.1422, 0.42)\n",
    "\n",
    "# best model\n",
    "# (0.1733, 0.4444)\n",
    "# (0.1533, 0.4244)\n"
   ]
  },
  {
   "attachments": {},
   "cell_type": "markdown",
   "metadata": {},
   "source": [
    "## Plot loss"
   ]
  },
  {
   "cell_type": "code",
   "execution_count": 18,
   "metadata": {},
   "outputs": [
    {
     "data": {
      "text/plain": [
       "Text(0, 0.5, 'Acc')"
      ]
     },
     "execution_count": 18,
     "metadata": {},
     "output_type": "execute_result"
    },
    {
     "data": {
      "image/png": "[encoded data removed]",
      "text/plain": [
       "<Figure size 800x800 with 2 Axes>"
      ]
     },
     "metadata": {},
     "output_type": "display_data"
    }
   ],
   "source": [
    "plt.rcParams['font.size'] = 12\n",
    "fig, axe = plt.subplots(2, 1, figsize=(8, 8))\n",
    "axe[0].plot(range(1, epochs+1), ls_loss, label='train_loss')\n",
    "axe[0].plot(range(1, epochs+1), ls_val_loss, label='val_loss')\n",
    "axe[0].legend()\n",
    "axe[0].set_xlabel('Epoch')\n",
    "axe[0].set_ylabel('Loss')\n",
    "axe[0].axvline(x=dict_best['epoch'], color='gray', linestyle='--')\n",
    "axe[0].axhline(y=dict_best['best_val_loss'], color='gray', linestyle='--')\n",
    "axe[0].set_xticks(list(axe[0].get_xticks()) + [dict_best['epoch']])\n",
    "axe[0].set_yticks(list(axe[0].get_yticks()) + [dict_best['best_val_loss']])\n",
    "\n",
    "axe[1].plot(range(1, epochs+1), ls_acc, label='train_acc')\n",
    "axe[1].plot(range(1, epochs+1), ls_val_acc, label='val_acc')\n",
    "axe[1].legend()\n",
    "axe[1].set_xlabel('Epoch')\n",
    "axe[1].set_ylabel('Acc')"
   ]
  },
  {
   "cell_type": "code",
   "execution_count": 24,
   "metadata": {},
   "outputs": [],
   "source": [
    "pd.DataFrame({\n",
    "    'Perceptron': [*per_val_acc, *per_test_acc],\n",
    "    'CatBoost': [*cat_val_acc, *cat_test_acc],\n",
    "    'Torch NN': [*nn_val_acc, *nn_test_acc]\n",
    "}, index=[['val', 'val', 'test', 'test'],\n",
    "          ['top1_acc', 'top3_acc', 'top1_acc', 'top3_acc']]).to_csv('output/model_perform.csv')"
   ]
  },
  {
   "cell_type": "code",
   "execution_count": null,
   "metadata": {},
   "outputs": [],
   "source": []
  }
 ],
 "metadata": {
  "kernelspec": {
   "display_name": "jupyterhub",
   "language": "python",
   "name": "jupyterhub"
  },
  "language_info": {
   "codemirror_mode": {
    "name": "ipython",
    "version": 3
   },
   "file_extension": ".py",
   "mimetype": "text/x-python",
   "name": "python",
   "nbconvert_exporter": "python",
   "pygments_lexer": "ipython3",
   "version": "3.9.13"
  },
  "orig_nbformat": 4
 },
 "nbformat": 4,
 "nbformat_minor": 2
}
